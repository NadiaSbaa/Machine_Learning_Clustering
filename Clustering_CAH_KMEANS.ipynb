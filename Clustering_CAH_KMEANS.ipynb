{
 "cells": [
  {
   "cell_type": "code",
   "execution_count": 1,
   "metadata": {},
   "outputs": [],
   "source": [
    "import pandas as pd"
   ]
  },
  {
   "cell_type": "markdown",
   "metadata": {},
   "source": [
    "<h3> Part 1: Data Manipulation </h3>"
   ]
  },
  {
   "cell_type": "code",
   "execution_count": 2,
   "metadata": {},
   "outputs": [],
   "source": [
    "fromage = pd.read_table(r\"fromage.txt\", sep=\"\\t\", header=0, index_col=0)"
   ]
  },
  {
   "cell_type": "markdown",
   "metadata": {},
   "source": [
    "<h5> Description of the Cheese dataset </h5>"
   ]
  },
  {
   "cell_type": "code",
   "execution_count": 3,
   "metadata": {},
   "outputs": [
    {
     "name": "stdout",
     "output_type": "stream",
     "text": [
      "         calories      sodium     calcium    lipides     retinol    folates  \\\n",
      "count   29.000000   29.000000   29.000000  29.000000   29.000000  29.000000   \n",
      "mean   300.034483  210.086207  185.734483  24.158621   67.562069  13.010345   \n",
      "std     91.914356  108.678923   72.528882   8.129642   24.163098  11.723339   \n",
      "min     70.000000   22.000000   72.600000   3.400000   37.100000   1.200000   \n",
      "25%    292.000000  140.000000  132.900000  23.400000   51.600000   4.900000   \n",
      "50%    321.000000  223.000000  202.300000  26.300000   62.300000   6.400000   \n",
      "75%    355.000000  276.000000  220.500000  29.100000   76.400000  21.100000   \n",
      "max    406.000000  432.000000  334.600000  33.300000  150.500000  36.400000   \n",
      "\n",
      "       proteines  cholesterol  magnesium  \n",
      "count  29.000000    29.000000  29.000000  \n",
      "mean   20.168966    74.586207  26.965517  \n",
      "std     6.959788    28.245755  11.318388  \n",
      "min     4.100000    10.000000  10.000000  \n",
      "25%    17.800000    70.000000  20.000000  \n",
      "50%    21.000000    80.000000  26.000000  \n",
      "75%    23.400000    90.000000  30.000000  \n",
      "max    35.700000   120.000000  51.000000  \n"
     ]
    }
   ],
   "source": [
    "print(fromage.describe())"
   ]
  },
  {
   "cell_type": "markdown",
   "metadata": {},
   "source": [
    "<h5> Affichage des attributs : </h5>"
   ]
  },
  {
   "cell_type": "code",
   "execution_count": 4,
   "metadata": {},
   "outputs": [
    {
     "data": {
      "text/plain": [
       "Index(['calories', 'sodium', 'calcium', 'lipides', 'retinol', 'folates',\n",
       "       'proteines', 'cholesterol', 'magnesium'],\n",
       "      dtype='object')"
      ]
     },
     "execution_count": 4,
     "metadata": {},
     "output_type": "execute_result"
    }
   ],
   "source": [
    "fromage.columns"
   ]
  },
  {
   "cell_type": "markdown",
   "metadata": {},
   "source": [
    "<h5> Data Visualization</h5>"
   ]
  },
  {
   "cell_type": "code",
   "execution_count": 5,
   "metadata": {},
   "outputs": [],
   "source": [
    "from pandas.plotting import scatter_matrix"
   ]
  },
  {
   "cell_type": "code",
   "execution_count": 6,
   "metadata": {},
   "outputs": [
    {
     "data": {
      "text/plain": [
       "array([[<AxesSubplot:xlabel='calories', ylabel='calories'>,\n",
       "        <AxesSubplot:xlabel='sodium', ylabel='calories'>,\n",
       "        <AxesSubplot:xlabel='calcium', ylabel='calories'>,\n",
       "        <AxesSubplot:xlabel='lipides', ylabel='calories'>,\n",
       "        <AxesSubplot:xlabel='retinol', ylabel='calories'>,\n",
       "        <AxesSubplot:xlabel='folates', ylabel='calories'>,\n",
       "        <AxesSubplot:xlabel='proteines', ylabel='calories'>,\n",
       "        <AxesSubplot:xlabel='cholesterol', ylabel='calories'>,\n",
       "        <AxesSubplot:xlabel='magnesium', ylabel='calories'>],\n",
       "       [<AxesSubplot:xlabel='calories', ylabel='sodium'>,\n",
       "        <AxesSubplot:xlabel='sodium', ylabel='sodium'>,\n",
       "        <AxesSubplot:xlabel='calcium', ylabel='sodium'>,\n",
       "        <AxesSubplot:xlabel='lipides', ylabel='sodium'>,\n",
       "        <AxesSubplot:xlabel='retinol', ylabel='sodium'>,\n",
       "        <AxesSubplot:xlabel='folates', ylabel='sodium'>,\n",
       "        <AxesSubplot:xlabel='proteines', ylabel='sodium'>,\n",
       "        <AxesSubplot:xlabel='cholesterol', ylabel='sodium'>,\n",
       "        <AxesSubplot:xlabel='magnesium', ylabel='sodium'>],\n",
       "       [<AxesSubplot:xlabel='calories', ylabel='calcium'>,\n",
       "        <AxesSubplot:xlabel='sodium', ylabel='calcium'>,\n",
       "        <AxesSubplot:xlabel='calcium', ylabel='calcium'>,\n",
       "        <AxesSubplot:xlabel='lipides', ylabel='calcium'>,\n",
       "        <AxesSubplot:xlabel='retinol', ylabel='calcium'>,\n",
       "        <AxesSubplot:xlabel='folates', ylabel='calcium'>,\n",
       "        <AxesSubplot:xlabel='proteines', ylabel='calcium'>,\n",
       "        <AxesSubplot:xlabel='cholesterol', ylabel='calcium'>,\n",
       "        <AxesSubplot:xlabel='magnesium', ylabel='calcium'>],\n",
       "       [<AxesSubplot:xlabel='calories', ylabel='lipides'>,\n",
       "        <AxesSubplot:xlabel='sodium', ylabel='lipides'>,\n",
       "        <AxesSubplot:xlabel='calcium', ylabel='lipides'>,\n",
       "        <AxesSubplot:xlabel='lipides', ylabel='lipides'>,\n",
       "        <AxesSubplot:xlabel='retinol', ylabel='lipides'>,\n",
       "        <AxesSubplot:xlabel='folates', ylabel='lipides'>,\n",
       "        <AxesSubplot:xlabel='proteines', ylabel='lipides'>,\n",
       "        <AxesSubplot:xlabel='cholesterol', ylabel='lipides'>,\n",
       "        <AxesSubplot:xlabel='magnesium', ylabel='lipides'>],\n",
       "       [<AxesSubplot:xlabel='calories', ylabel='retinol'>,\n",
       "        <AxesSubplot:xlabel='sodium', ylabel='retinol'>,\n",
       "        <AxesSubplot:xlabel='calcium', ylabel='retinol'>,\n",
       "        <AxesSubplot:xlabel='lipides', ylabel='retinol'>,\n",
       "        <AxesSubplot:xlabel='retinol', ylabel='retinol'>,\n",
       "        <AxesSubplot:xlabel='folates', ylabel='retinol'>,\n",
       "        <AxesSubplot:xlabel='proteines', ylabel='retinol'>,\n",
       "        <AxesSubplot:xlabel='cholesterol', ylabel='retinol'>,\n",
       "        <AxesSubplot:xlabel='magnesium', ylabel='retinol'>],\n",
       "       [<AxesSubplot:xlabel='calories', ylabel='folates'>,\n",
       "        <AxesSubplot:xlabel='sodium', ylabel='folates'>,\n",
       "        <AxesSubplot:xlabel='calcium', ylabel='folates'>,\n",
       "        <AxesSubplot:xlabel='lipides', ylabel='folates'>,\n",
       "        <AxesSubplot:xlabel='retinol', ylabel='folates'>,\n",
       "        <AxesSubplot:xlabel='folates', ylabel='folates'>,\n",
       "        <AxesSubplot:xlabel='proteines', ylabel='folates'>,\n",
       "        <AxesSubplot:xlabel='cholesterol', ylabel='folates'>,\n",
       "        <AxesSubplot:xlabel='magnesium', ylabel='folates'>],\n",
       "       [<AxesSubplot:xlabel='calories', ylabel='proteines'>,\n",
       "        <AxesSubplot:xlabel='sodium', ylabel='proteines'>,\n",
       "        <AxesSubplot:xlabel='calcium', ylabel='proteines'>,\n",
       "        <AxesSubplot:xlabel='lipides', ylabel='proteines'>,\n",
       "        <AxesSubplot:xlabel='retinol', ylabel='proteines'>,\n",
       "        <AxesSubplot:xlabel='folates', ylabel='proteines'>,\n",
       "        <AxesSubplot:xlabel='proteines', ylabel='proteines'>,\n",
       "        <AxesSubplot:xlabel='cholesterol', ylabel='proteines'>,\n",
       "        <AxesSubplot:xlabel='magnesium', ylabel='proteines'>],\n",
       "       [<AxesSubplot:xlabel='calories', ylabel='cholesterol'>,\n",
       "        <AxesSubplot:xlabel='sodium', ylabel='cholesterol'>,\n",
       "        <AxesSubplot:xlabel='calcium', ylabel='cholesterol'>,\n",
       "        <AxesSubplot:xlabel='lipides', ylabel='cholesterol'>,\n",
       "        <AxesSubplot:xlabel='retinol', ylabel='cholesterol'>,\n",
       "        <AxesSubplot:xlabel='folates', ylabel='cholesterol'>,\n",
       "        <AxesSubplot:xlabel='proteines', ylabel='cholesterol'>,\n",
       "        <AxesSubplot:xlabel='cholesterol', ylabel='cholesterol'>,\n",
       "        <AxesSubplot:xlabel='magnesium', ylabel='cholesterol'>],\n",
       "       [<AxesSubplot:xlabel='calories', ylabel='magnesium'>,\n",
       "        <AxesSubplot:xlabel='sodium', ylabel='magnesium'>,\n",
       "        <AxesSubplot:xlabel='calcium', ylabel='magnesium'>,\n",
       "        <AxesSubplot:xlabel='lipides', ylabel='magnesium'>,\n",
       "        <AxesSubplot:xlabel='retinol', ylabel='magnesium'>,\n",
       "        <AxesSubplot:xlabel='folates', ylabel='magnesium'>,\n",
       "        <AxesSubplot:xlabel='proteines', ylabel='magnesium'>,\n",
       "        <AxesSubplot:xlabel='cholesterol', ylabel='magnesium'>,\n",
       "        <AxesSubplot:xlabel='magnesium', ylabel='magnesium'>]],\n",
       "      dtype=object)"
      ]
     },
     "execution_count": 6,
     "metadata": {},
     "output_type": "execute_result"
    },
    {
     "data": {
      "image/png": "[encoded data removed]",
      "text/plain": [
       "<Figure size 720x720 with 81 Axes>"
      ]
     },
     "metadata": {
      "needs_background": "light"
     },
     "output_type": "display_data"
    }
   ],
   "source": [
    "#Croissement 2 a 2 des variables\n",
    "scatter_matrix(fromage, figsize= (10, 10))"
   ]
  },
  {
   "cell_type": "markdown",
   "metadata": {},
   "source": [
    "<h5> Comment: </h5>\n",
    "    - Calories and lipids attributes are strongly correlated\n",
    "    <br>\n",
    "    - The increase between the attributes Cholesterol and lipids shows the formation of the groups (correlated)\n",
    "  "
   ]
  },
  {
   "cell_type": "markdown",
   "metadata": {},
   "source": [
    "<h3> Part 2: Mobile center method </h3>"
   ]
  },
  {
   "cell_type": "markdown",
   "metadata": {},
   "source": [
    "In the k-means algorithm, the number k of clusters is fixed at the start. From an initial partition, we seek to iteratively improve the partition by minimizing a certain criterion."
   ]
  },
  {
   "cell_type": "code",
   "execution_count": 7,
   "metadata": {},
   "outputs": [],
   "source": [
    "import numpy as np\n",
    "from sklearn import cluster"
   ]
  },
  {
   "cell_type": "markdown",
   "metadata": {},
   "source": [
    "<h5> Creation of the k-means model: </h5>"
   ]
  },
  {
   "cell_type": "code",
   "execution_count": 8,
   "metadata": {},
   "outputs": [],
   "source": [
    "#With the seed reset (every time), the same set of numbers will appear every time.\n",
    "np.random.seed(0)\n",
    "#Définition de l'algorithme k-means\n",
    "kmeans = cluster.KMeans(n_clusters = 4)"
   ]
  },
  {
   "cell_type": "markdown",
   "metadata": {},
   "source": [
    "<h5> Learning: </h5>"
   ]
  },
  {
   "cell_type": "code",
   "execution_count": 9,
   "metadata": {},
   "outputs": [
    {
     "data": {
      "text/plain": [
       "KMeans(n_clusters=4)"
      ]
     },
     "execution_count": 9,
     "metadata": {},
     "output_type": "execute_result"
    }
   ],
   "source": [
    "kmeans.fit(fromage)"
   ]
  },
  {
   "cell_type": "markdown",
   "metadata": {},
   "source": [
    "<h5> Prediction : </h5>"
   ]
  },
  {
   "cell_type": "code",
   "execution_count": 10,
   "metadata": {},
   "outputs": [
    {
     "name": "stdout",
     "output_type": "stream",
     "text": [
      "Numéro        Observation\n",
      "cluster \n",
      "             Fromages\n",
      "0            Parmesan\n",
      "0            Beaufort\n",
      "0         SaintPaulin\n",
      "0            Vacherin\n",
      "0            Emmental\n",
      "0             Cheddar\n",
      "0               Comte\n",
      "0                Edam\n",
      "1         Coulomniers\n",
      "1            Pyrenees\n",
      "1  Fr.chevrepatemolle\n",
      "1         PontlEveque\n",
      "1            Chaource\n",
      "1           Chabichou\n",
      "1                Tome\n",
      "1             Babybel\n",
      "2      Fr.frais20nat.\n",
      "2      Fr.frais40nat.\n",
      "2       Petitsuisse40\n",
      "2  Yaourtlaitent.nat.\n",
      "3          Rocquefort\n",
      "3           Reblochon\n",
      "3         CarredelEst\n",
      "3           Maroilles\n",
      "3              Cantal\n",
      "3           Camembert\n",
      "3                Bleu\n",
      "3             Morbier\n",
      "3         Fr.fondu.45\n"
     ]
    }
   ],
   "source": [
    "idk = np.argsort(kmeans.labels_)\n",
    "print(\"Numéro        Observation\\ncluster \")\n",
    "print(pd.DataFrame(fromage.index[idk],kmeans.labels_[idk]))"
   ]
  },
  {
   "cell_type": "markdown",
   "metadata": {},
   "source": [
    "<h5>transform() </h5>(as the name already implies) returns something that is qualitatively similar to its input but expressed in a different form, i.e. scaled features, PCA features etc to unseen data."
   ]
  },
  {
   "cell_type": "code",
   "execution_count": 11,
   "metadata": {},
   "outputs": [
    {
     "name": "stdout",
     "output_type": "stream",
     "text": [
      "[[285.36163076 145.45179721 384.27301005 127.66904456]\n",
      " [118.43379084  84.03758274 303.10311983  93.02921551]\n",
      " [ 56.72603293 205.07356073 349.91323389 241.39308525]\n",
      " [200.30401971 150.63556291 393.76898843  39.24299576]\n",
      " [210.31138298 134.45026148 332.43471728  84.3287841 ]\n",
      " [111.73150994 155.73016828 371.97076666 109.43789941]\n",
      " [182.80599775  71.12160581 298.65300308 177.37236865]\n",
      " [204.98823213  65.55089864 311.48990553 104.25679538]\n",
      " [ 92.26223665 131.4224498  348.48685233 178.29581675]\n",
      " [ 79.32509258 196.16115266 333.83554522 252.73178678]\n",
      " [204.4018782   55.67198858 285.29211565 158.4463507 ]\n",
      " [ 43.74211715 165.35124073 293.81905359 196.77100465]\n",
      " [102.59674855 258.37172893 343.1669947  297.71373358]\n",
      " [265.24828993 151.44015423 195.86579908 257.98468612]\n",
      " [271.72958122 171.05399824 400.47054979  79.04276933]\n",
      " [336.96303256 300.49708453  27.57918146 389.61319628]\n",
      " [330.65941362 282.79253051  48.43507252 387.38459277]\n",
      " [169.20512053 147.91506114 379.74839203  53.53173975]\n",
      " [146.31641334 118.87963582 360.87135     54.54162981]\n",
      " [127.37007228 220.90668349 405.05415842 177.58997546]\n",
      " [322.76561591 271.94791379  73.02996816 381.71584464]\n",
      " [145.61200264  41.75132109 273.9400961  116.40240282]\n",
      " [118.1602421   78.84405693 327.69454718 102.5465501 ]\n",
      " [149.56115075  87.82458547 323.02206001  60.25771914]\n",
      " [302.57210349 221.56412799 480.78906108 120.6048573 ]\n",
      " [ 93.47945128 134.52312185 289.74900561 143.28405527]\n",
      " [176.06769384  40.06108227 309.5039923  103.38872948]\n",
      " [ 63.47704556 128.07874653 263.14012664 190.27707121]\n",
      " [316.6232269  294.09106211 101.24362326 358.84578155]]\n"
     ]
    }
   ],
   "source": [
    "print(kmeans.transform(fromage))"
   ]
  },
  {
   "cell_type": "markdown",
   "metadata": {},
   "source": [
    "<h5> The attributes of the centers of each cluster </h5>"
   ]
  },
  {
   "cell_type": "code",
   "execution_count": 12,
   "metadata": {},
   "outputs": [
    {
     "name": "stdout",
     "output_type": "stream",
     "text": [
      "           calories  sodium  calcium  lipides  retinol  folates  proteines  cholesterol\n",
      "Cluster  1    363.87   146.12   257.02   29.049   63.6   3.8625   26.562   96.25\n",
      "Cluster  2    305.0   224.37   130.37   25.15   81.387   18.037   19.6   73.75\n",
      "Cluster  3    101.75   44.75   133.75   6.2750   55.15   16.475   7.1999   18.25\n",
      "Cluster  4    327.0   327.72   194.67   26.877   64.311   15.133   20.755   81.111\n"
     ]
    }
   ],
   "source": [
    "#print(kmeans.cluster_centers_)\n",
    "#for i in range(0, 4):\n",
    "attributs = \"         \"\n",
    "for j in range(0,8):\n",
    "    attributs = attributs +  \"  \" +fromage.columns[j]\n",
    "print(attributs)\n",
    "for i in range(0, 4):\n",
    "    coors = \"\"\n",
    "    for j in range(0,8):\n",
    "        coors = coors +  \"   \" +str(kmeans.cluster_centers_[i][j])[:6] \n",
    "    print(\"Cluster \", i +1, coors)\n"
   ]
  },
  {
   "cell_type": "markdown",
   "metadata": {},
   "source": [
    "<h3> Helps find the right number of groups </h3>\n",
    "The diagram is often the same: we vary the number of groups and we monitor the evolution of a quality indicator of the solution ie. the ability of individuals to be closer to their fellows in the same group than individuals from other groups."
   ]
  },
  {
   "cell_type": "code",
   "execution_count": 13,
   "metadata": {},
   "outputs": [],
   "source": [
    "from sklearn import metrics\n",
    "import matplotlib.pyplot as plt"
   ]
  },
  {
   "cell_type": "code",
   "execution_count": 14,
   "metadata": {},
   "outputs": [
    {
     "name": "stdout",
     "output_type": "stream",
     "text": [
      "[0.50681355 0.37299771 0.3369907  0.35737616 0.32609984 0.2888388\n",
      " 0.29480635 0.2872981  0.24638892]\n"
     ]
    }
   ],
   "source": [
    "#utilisation de la métrique \"silhouette\" \n",
    "res = np.arange(9, dtype =\"double\")\n",
    "for k in np.arange(9):\n",
    "    km = cluster.KMeans(n_clusters = k+2)\n",
    "    km.fit(fromage)\n",
    "    res[k] = metrics.silhouette_score(fromage,km.labels_)\n",
    "print (res)"
   ]
  },
  {
   "cell_type": "code",
   "execution_count": 15,
   "metadata": {},
   "outputs": [
    {
     "data": {
      "image/png": "[encoded data removed]",
      "text/plain": [
       "<Figure size 432x288 with 1 Axes>"
      ]
     },
     "metadata": {
      "needs_background": "light"
     },
     "output_type": "display_data"
    }
   ],
   "source": [
    "#graphique\n",
    "plt.title(\"silhouette\")\n",
    "plt.xlabel(\"# of clusters\")\n",
    "plt.plot(np.arange(2,11,1),(res))\n",
    "plt.show()"
   ]
  },
  {
   "cell_type": "markdown",
   "metadata": {},
   "source": [
    "<h5> 2 / </h5>\n",
    "The silhouette value is a measure of how similar an object is to its own cluster compared to other clusters.\n",
    "The silhouette ranges from -1 to +1, where a high value indicates that the object is well suited to its own cluster and poorly suited to neighboring clusters.\n",
    "<h5> -> According to the silhouette metric, the best value of k (number of clusters) is 2 </h5>"
   ]
  },
  {
   "cell_type": "markdown",
   "metadata": {},
   "source": [
    "<h3> Part 3: Ascending hierarchical classification </h3>\n",
    "The hierarchical ascending classification (or CAH) proceeds by successive merging of sets of points (clusters), by initially considering all the points as singletons clusters, we merge at each step the 2 closest clusters in the sense of a distance, until you get a single cluster containing all t"
   ]
  },
  {
   "cell_type": "code",
   "execution_count": 16,
   "metadata": {},
   "outputs": [],
   "source": [
    "import pandas\n",
    "import numpy as np\n",
    "#librairies pour la CAH\n",
    "from matplotlib import pyplot as plt\n",
    "from scipy.cluster.hierarchy import dendrogram, linkage, fcluster"
   ]
  },
  {
   "cell_type": "code",
   "execution_count": 17,
   "metadata": {},
   "outputs": [
    {
     "data": {
      "image/png": "[encoded data removed]",
      "text/plain": [
       "<Figure size 432x288 with 1 Axes>"
      ]
     },
     "metadata": {
      "needs_background": "light"
     },
     "output_type": "display_data"
    }
   ],
   "source": [
    "Z = linkage(fromage,method='ward', metric='euclidean')\n",
    "#affichage du dendrogramme\n",
    "plt.title('CAH with materialization des 4 classes')\n",
    "dendrogram(Z,labels=fromage.index,orientation='left',color_threshold=255)\n",
    "plt.show()"
   ]
  },
  {
   "cell_type": "markdown",
   "metadata": {},
   "source": [
    "<h5> Comment: </h5>\n",
    "- In the dendrogram there is a division into 4 groups. <br>\n",
    "- The class containing \"fresh cheeses\" (orange color) stands out from the others to the point that we could also have considered dividing into 2 groups only."
   ]
  },
  {
   "cell_type": "code",
   "execution_count": 18,
   "metadata": {},
   "outputs": [
    {
     "name": "stdout",
     "output_type": "stream",
     "text": [
      "[3 4 2 3 3 2 4 4 2 2 4 2 2 4 3 1 1 3 3 2 1 4 4 4 3 2 4 2 1]\n",
      "             Fromages\n",
      "1  Yaourtlaitent.nat.\n",
      "1       Petitsuisse40\n",
      "1      Fr.frais40nat.\n",
      "1      Fr.frais20nat.\n",
      "2         SaintPaulin\n",
      "2            Beaufort\n",
      "2              Cantal\n",
      "2            Parmesan\n",
      "2             Cheddar\n",
      "2               Comte\n",
      "2                Edam\n",
      "2            Emmental\n",
      "2            Vacherin\n",
      "3          Rocquefort\n",
      "3             Morbier\n",
      "3           Maroilles\n",
      "3         CarredelEst\n",
      "3           Camembert\n",
      "3                Bleu\n",
      "3         Fr.fondu.45\n",
      "4         Coulomniers\n",
      "4            Chaource\n",
      "4           Chabichou\n",
      "4         PontlEveque\n",
      "4            Pyrenees\n",
      "4           Reblochon\n",
      "4             Babybel\n",
      "4                Tome\n",
      "4  Fr.chevrepatemolle\n"
     ]
    }
   ],
   "source": [
    "groupes_cah = fcluster(Z, t = 255,criterion='distance')\n",
    "print(groupes_cah)\n",
    "#index triés des groupes\n",
    "idg = np.argsort(groupes_cah)\n",
    "#affichage des observations et leurs groupes\n",
    "print(pandas.DataFrame(fromage.index[idg],groupes_cah[idg]))"
   ]
  },
  {
   "cell_type": "markdown",
   "metadata": {},
   "source": [
    "<h5> Comment: We have 4 groups </h5>\n",
    " - The 1st group, represented by 1, is made up of Yaourtlaitent.nat., Petitsuisse40, Fr.frais40nat .., Fr.frais20nat ..\n",
    " <br>\n",
    " - The 2nd group, represented by 2, is made up of SaintPaulin, Beaufort, Cantal, Parmesan, Cheddar, Comte, Edam, Emmental, Vacherin\n",
    " <br>\n",
    " - The 3rd group, represented by 3, is made up of Rocquefort, Morbier, Maroilles, CarredelEst, Camembert, Bleu, Fr.fondu. 45\n",
    " <br>\n",
    " - The 4th group, represented by 4, is made up of Coulomniers, Chaource, Chabichou, PontlEveque, Pyrenees, Reblochon, Babybel, Tome, Fr.chevrepatemolle"
   ]
  },
  {
   "cell_type": "code",
   "execution_count": 19,
   "metadata": {},
   "outputs": [
    {
     "data": {
      "text/html": [
       "<div>\n",
       "<style scoped>\n",
       "    .dataframe tbody tr th:only-of-type {\n",
       "        vertical-align: middle;\n",
       "    }\n",
       "\n",
       "    .dataframe tbody tr th {\n",
       "        vertical-align: top;\n",
       "    }\n",
       "\n",
       "    .dataframe thead th {\n",
       "        text-align: right;\n",
       "    }\n",
       "</style>\n",
       "<table border=\"1\" class=\"dataframe\">\n",
       "  <thead>\n",
       "    <tr style=\"text-align: right;\">\n",
       "      <th></th>\n",
       "      <th>index</th>\n",
       "      <th>Classe CAH</th>\n",
       "      <th>Classe Kmeans</th>\n",
       "    </tr>\n",
       "  </thead>\n",
       "  <tbody>\n",
       "    <tr>\n",
       "      <th>0</th>\n",
       "      <td>Parmesan</td>\n",
       "      <td>2</td>\n",
       "      <td>0</td>\n",
       "    </tr>\n",
       "    <tr>\n",
       "      <th>1</th>\n",
       "      <td>Beaufort</td>\n",
       "      <td>2</td>\n",
       "      <td>0</td>\n",
       "    </tr>\n",
       "    <tr>\n",
       "      <th>2</th>\n",
       "      <td>SaintPaulin</td>\n",
       "      <td>2</td>\n",
       "      <td>0</td>\n",
       "    </tr>\n",
       "    <tr>\n",
       "      <th>3</th>\n",
       "      <td>Vacherin</td>\n",
       "      <td>2</td>\n",
       "      <td>0</td>\n",
       "    </tr>\n",
       "    <tr>\n",
       "      <th>4</th>\n",
       "      <td>Emmental</td>\n",
       "      <td>2</td>\n",
       "      <td>0</td>\n",
       "    </tr>\n",
       "    <tr>\n",
       "      <th>5</th>\n",
       "      <td>Cheddar</td>\n",
       "      <td>2</td>\n",
       "      <td>0</td>\n",
       "    </tr>\n",
       "    <tr>\n",
       "      <th>6</th>\n",
       "      <td>Comte</td>\n",
       "      <td>2</td>\n",
       "      <td>0</td>\n",
       "    </tr>\n",
       "    <tr>\n",
       "      <th>7</th>\n",
       "      <td>Edam</td>\n",
       "      <td>2</td>\n",
       "      <td>0</td>\n",
       "    </tr>\n",
       "    <tr>\n",
       "      <th>8</th>\n",
       "      <td>Coulomniers</td>\n",
       "      <td>4</td>\n",
       "      <td>1</td>\n",
       "    </tr>\n",
       "    <tr>\n",
       "      <th>9</th>\n",
       "      <td>Pyrenees</td>\n",
       "      <td>4</td>\n",
       "      <td>1</td>\n",
       "    </tr>\n",
       "    <tr>\n",
       "      <th>10</th>\n",
       "      <td>Fr.chevrepatemolle</td>\n",
       "      <td>4</td>\n",
       "      <td>1</td>\n",
       "    </tr>\n",
       "    <tr>\n",
       "      <th>11</th>\n",
       "      <td>PontlEveque</td>\n",
       "      <td>4</td>\n",
       "      <td>1</td>\n",
       "    </tr>\n",
       "    <tr>\n",
       "      <th>12</th>\n",
       "      <td>Chaource</td>\n",
       "      <td>4</td>\n",
       "      <td>1</td>\n",
       "    </tr>\n",
       "    <tr>\n",
       "      <th>13</th>\n",
       "      <td>Chabichou</td>\n",
       "      <td>4</td>\n",
       "      <td>1</td>\n",
       "    </tr>\n",
       "    <tr>\n",
       "      <th>14</th>\n",
       "      <td>Tome</td>\n",
       "      <td>4</td>\n",
       "      <td>1</td>\n",
       "    </tr>\n",
       "    <tr>\n",
       "      <th>15</th>\n",
       "      <td>Babybel</td>\n",
       "      <td>4</td>\n",
       "      <td>1</td>\n",
       "    </tr>\n",
       "    <tr>\n",
       "      <th>16</th>\n",
       "      <td>Fr.frais20nat.</td>\n",
       "      <td>1</td>\n",
       "      <td>2</td>\n",
       "    </tr>\n",
       "    <tr>\n",
       "      <th>17</th>\n",
       "      <td>Fr.frais40nat.</td>\n",
       "      <td>1</td>\n",
       "      <td>2</td>\n",
       "    </tr>\n",
       "    <tr>\n",
       "      <th>18</th>\n",
       "      <td>Petitsuisse40</td>\n",
       "      <td>1</td>\n",
       "      <td>2</td>\n",
       "    </tr>\n",
       "    <tr>\n",
       "      <th>19</th>\n",
       "      <td>Yaourtlaitent.nat.</td>\n",
       "      <td>1</td>\n",
       "      <td>2</td>\n",
       "    </tr>\n",
       "    <tr>\n",
       "      <th>20</th>\n",
       "      <td>Rocquefort</td>\n",
       "      <td>3</td>\n",
       "      <td>3</td>\n",
       "    </tr>\n",
       "    <tr>\n",
       "      <th>21</th>\n",
       "      <td>Reblochon</td>\n",
       "      <td>4</td>\n",
       "      <td>3</td>\n",
       "    </tr>\n",
       "    <tr>\n",
       "      <th>22</th>\n",
       "      <td>CarredelEst</td>\n",
       "      <td>3</td>\n",
       "      <td>3</td>\n",
       "    </tr>\n",
       "    <tr>\n",
       "      <th>23</th>\n",
       "      <td>Maroilles</td>\n",
       "      <td>3</td>\n",
       "      <td>3</td>\n",
       "    </tr>\n",
       "    <tr>\n",
       "      <th>24</th>\n",
       "      <td>Cantal</td>\n",
       "      <td>2</td>\n",
       "      <td>3</td>\n",
       "    </tr>\n",
       "    <tr>\n",
       "      <th>25</th>\n",
       "      <td>Camembert</td>\n",
       "      <td>3</td>\n",
       "      <td>3</td>\n",
       "    </tr>\n",
       "    <tr>\n",
       "      <th>26</th>\n",
       "      <td>Bleu</td>\n",
       "      <td>3</td>\n",
       "      <td>3</td>\n",
       "    </tr>\n",
       "    <tr>\n",
       "      <th>27</th>\n",
       "      <td>Morbier</td>\n",
       "      <td>3</td>\n",
       "      <td>3</td>\n",
       "    </tr>\n",
       "    <tr>\n",
       "      <th>28</th>\n",
       "      <td>Fr.fondu.45</td>\n",
       "      <td>3</td>\n",
       "      <td>3</td>\n",
       "    </tr>\n",
       "  </tbody>\n",
       "</table>\n",
       "</div>"
      ],
      "text/plain": [
       "                 index  Classe CAH  Classe Kmeans\n",
       "0             Parmesan           2              0\n",
       "1             Beaufort           2              0\n",
       "2          SaintPaulin           2              0\n",
       "3             Vacherin           2              0\n",
       "4             Emmental           2              0\n",
       "5              Cheddar           2              0\n",
       "6                Comte           2              0\n",
       "7                 Edam           2              0\n",
       "8          Coulomniers           4              1\n",
       "9             Pyrenees           4              1\n",
       "10  Fr.chevrepatemolle           4              1\n",
       "11         PontlEveque           4              1\n",
       "12            Chaource           4              1\n",
       "13           Chabichou           4              1\n",
       "14                Tome           4              1\n",
       "15             Babybel           4              1\n",
       "16      Fr.frais20nat.           1              2\n",
       "17      Fr.frais40nat.           1              2\n",
       "18       Petitsuisse40           1              2\n",
       "19  Yaourtlaitent.nat.           1              2\n",
       "20          Rocquefort           3              3\n",
       "21           Reblochon           4              3\n",
       "22         CarredelEst           3              3\n",
       "23           Maroilles           3              3\n",
       "24              Cantal           2              3\n",
       "25           Camembert           3              3\n",
       "26                Bleu           3              3\n",
       "27             Morbier           3              3\n",
       "28         Fr.fondu.45           3              3"
      ]
     },
     "execution_count": 19,
     "metadata": {},
     "output_type": "execute_result"
    }
   ],
   "source": [
    "percentile_list = pd.DataFrame(\n",
    "    {'index': fromage.index[idk],\n",
    "     'Classe CAH': groupes_cah[idk],\n",
    "     'Classe Kmeans': kmeans.labels_[idk]\n",
    "    })\n",
    "percentile_list"
   ]
  },
  {
   "cell_type": "markdown",
   "metadata": {},
   "source": [
    "<h3> Part 4: Interpretation of classes </h3>\n",
    "Principal component analysis (PCA)"
   ]
  },
  {
   "cell_type": "code",
   "execution_count": 20,
   "metadata": {},
   "outputs": [],
   "source": [
    "from sklearn.decomposition import PCA"
   ]
  },
  {
   "cell_type": "code",
   "execution_count": 21,
   "metadata": {},
   "outputs": [
    {
     "data": {
      "image/png": "[encoded data removed]",
      "text/plain": [
       "<Figure size 432x288 with 1 Axes>"
      ]
     },
     "metadata": {
      "needs_background": "light"
     },
     "output_type": "display_data"
    }
   ],
   "source": [
    "acp = PCA(n_components =2).fit_transform(fromage)\n",
    "for couleur,k in zip(['red','blue','lawngreen', 'aqua'],[0,1,2,3]):\n",
    "    plt.scatter(acp[km.labels_==k,0],acp[km.labels_==k,1],c=couleur)\n",
    "plt.show()"
   ]
  },
  {
   "cell_type": "markdown",
   "metadata": {},
   "source": [
    "<h5> Comment: </h5>\n",
    "- Class 3 is very well defined. <br>\n",
    "- There are intersections between the other classes, so they are more complicated to understand."
   ]
  },
  {
   "cell_type": "markdown",
   "metadata": {},
   "source": [
    "<h3> Descending hierarchical algorithm (divisive clustering) based on the use of k-means </h3>"
   ]
  },
  {
   "cell_type": "markdown",
   "metadata": {},
   "source": [
    "<h5> Principle: </h5>\n",
    "- Bipartition the cheese dataset using k-means: <br>\n",
    "    - Load the dataframe containing a dataset. <br>\n",
    "    - Execute k-means on the data frame with k = 2. <br>\n",
    "    - Divide the cheese dataset into two parts using the cluster assignments. <br>\n",
    "- Perform recursive bipartitioning"
   ]
  },
  {
   "cell_type": "code",
   "execution_count": 28,
   "metadata": {},
   "outputs": [],
   "source": [
    "import matplotlib.pyplot as plt\n",
    "import numpy as np\n",
    "import sys\n",
    "import os\n",
    "import time\n",
    "from scipy.sparse import csr_matrix\n",
    "from sklearn.cluster import KMeans\n",
    "from sklearn.metrics import pairwise_distances"
   ]
  },
  {
   "cell_type": "code",
   "execution_count": 111,
   "metadata": {},
   "outputs": [],
   "source": [
    "def bipartition(cluster, kmeans):\n",
    "    '''cluster: is a dict having \n",
    "                * dataframe: original data\n",
    "                * centroid:  centroid for this particular cluster'''\n",
    "    \n",
    "    dataframe   = cluster['dataframe']\n",
    "    kmeans.fit(dataframe)\n",
    "    centroids, cluster_assignment = kmeans.cluster_centers_, kmeans.labels_\n",
    "    \n",
    "    # Divide the data matrix into two parts using the cluster assignments.\n",
    "    left_child, right_child = dataframe[cluster_assignment==0], \\\n",
    "                                dataframe[cluster_assignment==1]\n",
    "        \n",
    "    \n",
    "    # Package relevant variables for the child clusters\n",
    "    cluster_left_child  = {\n",
    "                           'dataframe': left_child,\n",
    "                           'centroid': centroids[0]}\n",
    "    cluster_right_child = {\n",
    "                           'dataframe': right_child,\n",
    "                           'centroid': centroids[1]}\n",
    "    \n",
    "    return (cluster_left_child, cluster_right_child)"
   ]
  },
  {
   "cell_type": "markdown",
   "metadata": {},
   "source": [
    "\n",
    "First Partition:"
   ]
  },
  {
   "cell_type": "code",
   "execution_count": 103,
   "metadata": {},
   "outputs": [],
   "source": [
    "fromage_data = {'dataframe': fromage} # no 'centroid' for the root cluster\n",
    "left_child, right_child = bipartition(fromage_data, kmeans)"
   ]
  },
  {
   "cell_type": "markdown",
   "metadata": {},
   "source": [
    "Visualization of the two sons:"
   ]
  },
  {
   "cell_type": "code",
   "execution_count": 112,
   "metadata": {},
   "outputs": [
    {
     "data": {
      "text/html": [
       "<div>\n",
       "<style scoped>\n",
       "    .dataframe tbody tr th:only-of-type {\n",
       "        vertical-align: middle;\n",
       "    }\n",
       "\n",
       "    .dataframe tbody tr th {\n",
       "        vertical-align: top;\n",
       "    }\n",
       "\n",
       "    .dataframe thead th {\n",
       "        text-align: right;\n",
       "    }\n",
       "</style>\n",
       "<table border=\"1\" class=\"dataframe\">\n",
       "  <thead>\n",
       "    <tr style=\"text-align: right;\">\n",
       "      <th></th>\n",
       "      <th>calories</th>\n",
       "      <th>sodium</th>\n",
       "      <th>calcium</th>\n",
       "      <th>lipides</th>\n",
       "      <th>retinol</th>\n",
       "      <th>folates</th>\n",
       "      <th>proteines</th>\n",
       "      <th>cholesterol</th>\n",
       "      <th>magnesium</th>\n",
       "    </tr>\n",
       "    <tr>\n",
       "      <th>Fromages</th>\n",
       "      <th></th>\n",
       "      <th></th>\n",
       "      <th></th>\n",
       "      <th></th>\n",
       "      <th></th>\n",
       "      <th></th>\n",
       "      <th></th>\n",
       "      <th></th>\n",
       "      <th></th>\n",
       "    </tr>\n",
       "  </thead>\n",
       "  <tbody>\n",
       "    <tr>\n",
       "      <th>Beaufort</th>\n",
       "      <td>401</td>\n",
       "      <td>112.0</td>\n",
       "      <td>259.4</td>\n",
       "      <td>33.3</td>\n",
       "      <td>54.9</td>\n",
       "      <td>1.2</td>\n",
       "      <td>26.6</td>\n",
       "      <td>120</td>\n",
       "      <td>41</td>\n",
       "    </tr>\n",
       "    <tr>\n",
       "      <th>Cheddar</th>\n",
       "      <td>406</td>\n",
       "      <td>172.0</td>\n",
       "      <td>182.3</td>\n",
       "      <td>32.5</td>\n",
       "      <td>76.4</td>\n",
       "      <td>4.9</td>\n",
       "      <td>26.0</td>\n",
       "      <td>110</td>\n",
       "      <td>28</td>\n",
       "    </tr>\n",
       "    <tr>\n",
       "      <th>Comte</th>\n",
       "      <td>399</td>\n",
       "      <td>92.0</td>\n",
       "      <td>220.5</td>\n",
       "      <td>32.4</td>\n",
       "      <td>55.9</td>\n",
       "      <td>1.3</td>\n",
       "      <td>29.2</td>\n",
       "      <td>120</td>\n",
       "      <td>51</td>\n",
       "    </tr>\n",
       "    <tr>\n",
       "      <th>Edam</th>\n",
       "      <td>327</td>\n",
       "      <td>148.0</td>\n",
       "      <td>272.2</td>\n",
       "      <td>24.7</td>\n",
       "      <td>65.7</td>\n",
       "      <td>5.5</td>\n",
       "      <td>24.7</td>\n",
       "      <td>80</td>\n",
       "      <td>44</td>\n",
       "    </tr>\n",
       "    <tr>\n",
       "      <th>Emmental</th>\n",
       "      <td>378</td>\n",
       "      <td>60.0</td>\n",
       "      <td>308.2</td>\n",
       "      <td>29.4</td>\n",
       "      <td>56.3</td>\n",
       "      <td>2.4</td>\n",
       "      <td>29.4</td>\n",
       "      <td>110</td>\n",
       "      <td>45</td>\n",
       "    </tr>\n",
       "    <tr>\n",
       "      <th>Parmesan</th>\n",
       "      <td>381</td>\n",
       "      <td>240.0</td>\n",
       "      <td>334.6</td>\n",
       "      <td>27.5</td>\n",
       "      <td>90.0</td>\n",
       "      <td>5.2</td>\n",
       "      <td>35.7</td>\n",
       "      <td>80</td>\n",
       "      <td>46</td>\n",
       "    </tr>\n",
       "    <tr>\n",
       "      <th>SaintPaulin</th>\n",
       "      <td>298</td>\n",
       "      <td>205.0</td>\n",
       "      <td>261.0</td>\n",
       "      <td>23.3</td>\n",
       "      <td>60.4</td>\n",
       "      <td>6.7</td>\n",
       "      <td>23.3</td>\n",
       "      <td>70</td>\n",
       "      <td>26</td>\n",
       "    </tr>\n",
       "    <tr>\n",
       "      <th>Vacherin</th>\n",
       "      <td>321</td>\n",
       "      <td>140.0</td>\n",
       "      <td>218.0</td>\n",
       "      <td>29.3</td>\n",
       "      <td>49.2</td>\n",
       "      <td>3.7</td>\n",
       "      <td>17.6</td>\n",
       "      <td>80</td>\n",
       "      <td>30</td>\n",
       "    </tr>\n",
       "  </tbody>\n",
       "</table>\n",
       "</div>"
      ],
      "text/plain": [
       "             calories  sodium  calcium  lipides  retinol  folates  proteines  \\\n",
       "Fromages                                                                       \n",
       "Beaufort          401   112.0    259.4     33.3     54.9      1.2       26.6   \n",
       "Cheddar           406   172.0    182.3     32.5     76.4      4.9       26.0   \n",
       "Comte             399    92.0    220.5     32.4     55.9      1.3       29.2   \n",
       "Edam              327   148.0    272.2     24.7     65.7      5.5       24.7   \n",
       "Emmental          378    60.0    308.2     29.4     56.3      2.4       29.4   \n",
       "Parmesan          381   240.0    334.6     27.5     90.0      5.2       35.7   \n",
       "SaintPaulin       298   205.0    261.0     23.3     60.4      6.7       23.3   \n",
       "Vacherin          321   140.0    218.0     29.3     49.2      3.7       17.6   \n",
       "\n",
       "             cholesterol  magnesium  \n",
       "Fromages                             \n",
       "Beaufort             120         41  \n",
       "Cheddar              110         28  \n",
       "Comte                120         51  \n",
       "Edam                  80         44  \n",
       "Emmental             110         45  \n",
       "Parmesan              80         46  \n",
       "SaintPaulin           70         26  \n",
       "Vacherin              80         30  "
      ]
     },
     "execution_count": 112,
     "metadata": {},
     "output_type": "execute_result"
    }
   ],
   "source": [
    "left_child[\"dataframe\"]"
   ]
  },
  {
   "cell_type": "code",
   "execution_count": 113,
   "metadata": {},
   "outputs": [
    {
     "data": {
      "text/html": [
       "<div>\n",
       "<style scoped>\n",
       "    .dataframe tbody tr th:only-of-type {\n",
       "        vertical-align: middle;\n",
       "    }\n",
       "\n",
       "    .dataframe tbody tr th {\n",
       "        vertical-align: top;\n",
       "    }\n",
       "\n",
       "    .dataframe thead th {\n",
       "        text-align: right;\n",
       "    }\n",
       "</style>\n",
       "<table border=\"1\" class=\"dataframe\">\n",
       "  <thead>\n",
       "    <tr style=\"text-align: right;\">\n",
       "      <th></th>\n",
       "      <th>calories</th>\n",
       "      <th>sodium</th>\n",
       "      <th>calcium</th>\n",
       "      <th>lipides</th>\n",
       "      <th>retinol</th>\n",
       "      <th>folates</th>\n",
       "      <th>proteines</th>\n",
       "      <th>cholesterol</th>\n",
       "      <th>magnesium</th>\n",
       "    </tr>\n",
       "    <tr>\n",
       "      <th>Fromages</th>\n",
       "      <th></th>\n",
       "      <th></th>\n",
       "      <th></th>\n",
       "      <th></th>\n",
       "      <th></th>\n",
       "      <th></th>\n",
       "      <th></th>\n",
       "      <th></th>\n",
       "      <th></th>\n",
       "    </tr>\n",
       "  </thead>\n",
       "  <tbody>\n",
       "    <tr>\n",
       "      <th>Babybel</th>\n",
       "      <td>314</td>\n",
       "      <td>238.0</td>\n",
       "      <td>209.8</td>\n",
       "      <td>25.1</td>\n",
       "      <td>63.7</td>\n",
       "      <td>6.4</td>\n",
       "      <td>22.6</td>\n",
       "      <td>70</td>\n",
       "      <td>27</td>\n",
       "    </tr>\n",
       "    <tr>\n",
       "      <th>Bleu</th>\n",
       "      <td>342</td>\n",
       "      <td>336.0</td>\n",
       "      <td>211.1</td>\n",
       "      <td>28.9</td>\n",
       "      <td>37.1</td>\n",
       "      <td>27.5</td>\n",
       "      <td>20.2</td>\n",
       "      <td>90</td>\n",
       "      <td>27</td>\n",
       "    </tr>\n",
       "    <tr>\n",
       "      <th>Camembert</th>\n",
       "      <td>264</td>\n",
       "      <td>314.0</td>\n",
       "      <td>215.9</td>\n",
       "      <td>19.5</td>\n",
       "      <td>103.0</td>\n",
       "      <td>36.4</td>\n",
       "      <td>23.4</td>\n",
       "      <td>60</td>\n",
       "      <td>20</td>\n",
       "    </tr>\n",
       "    <tr>\n",
       "      <th>Cantal</th>\n",
       "      <td>367</td>\n",
       "      <td>256.0</td>\n",
       "      <td>264.0</td>\n",
       "      <td>28.8</td>\n",
       "      <td>48.8</td>\n",
       "      <td>5.7</td>\n",
       "      <td>23.0</td>\n",
       "      <td>90</td>\n",
       "      <td>30</td>\n",
       "    </tr>\n",
       "    <tr>\n",
       "      <th>Fr.fondu.45</th>\n",
       "      <td>292</td>\n",
       "      <td>390.0</td>\n",
       "      <td>168.5</td>\n",
       "      <td>24.0</td>\n",
       "      <td>77.4</td>\n",
       "      <td>5.5</td>\n",
       "      <td>16.8</td>\n",
       "      <td>70</td>\n",
       "      <td>20</td>\n",
       "    </tr>\n",
       "    <tr>\n",
       "      <th>Maroilles</th>\n",
       "      <td>338</td>\n",
       "      <td>311.0</td>\n",
       "      <td>236.7</td>\n",
       "      <td>29.1</td>\n",
       "      <td>46.7</td>\n",
       "      <td>3.6</td>\n",
       "      <td>20.4</td>\n",
       "      <td>90</td>\n",
       "      <td>40</td>\n",
       "    </tr>\n",
       "    <tr>\n",
       "      <th>Morbier</th>\n",
       "      <td>347</td>\n",
       "      <td>285.0</td>\n",
       "      <td>219.0</td>\n",
       "      <td>29.5</td>\n",
       "      <td>57.6</td>\n",
       "      <td>5.8</td>\n",
       "      <td>23.6</td>\n",
       "      <td>80</td>\n",
       "      <td>30</td>\n",
       "    </tr>\n",
       "    <tr>\n",
       "      <th>Pyrenees</th>\n",
       "      <td>355</td>\n",
       "      <td>232.0</td>\n",
       "      <td>178.9</td>\n",
       "      <td>28.0</td>\n",
       "      <td>51.5</td>\n",
       "      <td>6.8</td>\n",
       "      <td>22.4</td>\n",
       "      <td>90</td>\n",
       "      <td>25</td>\n",
       "    </tr>\n",
       "    <tr>\n",
       "      <th>Reblochon</th>\n",
       "      <td>309</td>\n",
       "      <td>272.0</td>\n",
       "      <td>202.3</td>\n",
       "      <td>24.6</td>\n",
       "      <td>73.1</td>\n",
       "      <td>8.1</td>\n",
       "      <td>19.7</td>\n",
       "      <td>80</td>\n",
       "      <td>30</td>\n",
       "    </tr>\n",
       "    <tr>\n",
       "      <th>Rocquefort</th>\n",
       "      <td>370</td>\n",
       "      <td>432.0</td>\n",
       "      <td>162.0</td>\n",
       "      <td>31.2</td>\n",
       "      <td>83.5</td>\n",
       "      <td>13.3</td>\n",
       "      <td>18.7</td>\n",
       "      <td>100</td>\n",
       "      <td>25</td>\n",
       "    </tr>\n",
       "  </tbody>\n",
       "</table>\n",
       "</div>"
      ],
      "text/plain": [
       "             calories  sodium  calcium  lipides  retinol  folates  proteines  \\\n",
       "Fromages                                                                       \n",
       "Babybel           314   238.0    209.8     25.1     63.7      6.4       22.6   \n",
       "Bleu              342   336.0    211.1     28.9     37.1     27.5       20.2   \n",
       "Camembert         264   314.0    215.9     19.5    103.0     36.4       23.4   \n",
       "Cantal            367   256.0    264.0     28.8     48.8      5.7       23.0   \n",
       "Fr.fondu.45       292   390.0    168.5     24.0     77.4      5.5       16.8   \n",
       "Maroilles         338   311.0    236.7     29.1     46.7      3.6       20.4   \n",
       "Morbier           347   285.0    219.0     29.5     57.6      5.8       23.6   \n",
       "Pyrenees          355   232.0    178.9     28.0     51.5      6.8       22.4   \n",
       "Reblochon         309   272.0    202.3     24.6     73.1      8.1       19.7   \n",
       "Rocquefort        370   432.0    162.0     31.2     83.5     13.3       18.7   \n",
       "\n",
       "             cholesterol  magnesium  \n",
       "Fromages                             \n",
       "Babybel               70         27  \n",
       "Bleu                  90         27  \n",
       "Camembert             60         20  \n",
       "Cantal                90         30  \n",
       "Fr.fondu.45           70         20  \n",
       "Maroilles             90         40  \n",
       "Morbier               80         30  \n",
       "Pyrenees              90         25  \n",
       "Reblochon             80         30  \n",
       "Rocquefort           100         25  "
      ]
     },
     "execution_count": 113,
     "metadata": {},
     "output_type": "execute_result"
    }
   ],
   "source": [
    "right_child[\"dataframe\"]"
   ]
  },
  {
   "cell_type": "code",
   "execution_count": 106,
   "metadata": {},
   "outputs": [],
   "source": [
    "first_left_child = left_child\n",
    "first_right_child = right_child"
   ]
  },
  {
   "cell_type": "markdown",
   "metadata": {},
   "source": [
    "Deuxieme Partionnement :"
   ]
  },
  {
   "cell_type": "code",
   "execution_count": 108,
   "metadata": {},
   "outputs": [],
   "source": [
    "left_left_child, right_left_child = bipartition(left_child, kmeans)"
   ]
  },
  {
   "cell_type": "code",
   "execution_count": 109,
   "metadata": {},
   "outputs": [],
   "source": [
    "left_right_child, right_right_child = bipartition(right_child , kmeans)"
   ]
  },
  {
   "cell_type": "markdown",
   "metadata": {},
   "source": [
    "<h5> Arbre Obtenue (divide analysis) : </h5>"
   ]
  },
  {
   "cell_type": "code",
   "execution_count": 133,
   "metadata": {},
   "outputs": [
    {
     "name": "stdout",
     "output_type": "stream",
     "text": [
      "\n",
      "                                         Cluster ( 29 )\n",
      "                                      ____|       |_____\n",
      "                   Cluster 0 ( 8 )                       Cluster 1 ( 10 )\n",
      "                 ____|       |_____                 ____|       |_____\n",
      "     Cluster 0 ( 3 )      Cluster 1 ( 1 )         Cluster 0 ( 1 )      Cluster 1 ( 4 )\n"
     ]
    }
   ],
   "source": [
    "print(\"\")\n",
    "print(\"                                         Cluster (\", len(fromage_data[\"dataframe\"]), ')')\n",
    "print(\"                                      ____|       |_____\")\n",
    "print(\"                   Cluster 0 (\", len(first_left_child[\"dataframe\"]),\")                       Cluster 1 (\", len(first_right_child[\"dataframe\"]),\")\")\n",
    "print(\"                 ____|       |_____                 ____|       |_____\")\n",
    "print(\"     Cluster 0 (\", len(left_left_child[\"dataframe\"]),\")      Cluster 1 (\", len(right_left_child[\"dataframe\"]),\")         Cluster 0 (\", len(left_right_child[\"dataframe\"]),\")      Cluster 1 (\", len(right_right_child[\"dataframe\"]),\")\")"
   ]
  },
  {
   "cell_type": "code",
   "execution_count": null,
   "metadata": {},
   "outputs": [],
   "source": []
  }
 ],
 "metadata": {
  "kernelspec": {
   "display_name": "Python 3",
   "language": "python",
   "name": "python3"
  },
  "language_info": {
   "codemirror_mode": {
    "name": "ipython",
    "version": 3
   },
   "file_extension": ".py",
   "mimetype": "text/x-python",
   "name": "python",
   "nbconvert_exporter": "python",
   "pygments_lexer": "ipython3",
   "version": "3.8.5"
  }
 },
 "nbformat": 4,
 "nbformat_minor": 4
}
